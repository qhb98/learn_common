{
 "cells": [
  {
   "cell_type": "code",
   "execution_count": null,
   "metadata": {
    "collapsed": true,
    "pycharm": {
     "name": "#%%\n"
    }
   },
   "outputs": [],
   "source": []
  },
  {
   "cell_type": "code",
   "execution_count": null,
   "outputs": [],
   "source": [],
   "metadata": {
    "collapsed": false,
    "pycharm": {
     "name": "#%%\n"
    }
   }
  },
  {
   "cell_type": "code",
   "execution_count": null,
   "outputs": [],
   "source": [],
   "metadata": {
    "collapsed": false,
    "pycharm": {
     "name": "#%%\n"
    }
   }
  },
  {
   "cell_type": "markdown",
   "source": [
    "## 多目标进化算法的性能评价指标\n",
    "\n",
    "### 一、多目标进化算法解集的性能评价指标\n",
    "1. 解集的收敛性评价 convergence, 反映解集与真实pareto前沿之间的逼近程度\n",
    "2. 解集的均匀性评价 uniformity/evenness, 体现解集中个体分布的均匀程度\n",
    "3. 解集的广泛性评价 spread, 反映整个解集在目标空间中分布的广泛程度\n",
    "\n",
    "### 二、常用的性能评价指标\n",
    "1. GD 解集P中的每个点到参考集P*中的平均最小距离\n",
    "2. convergence metric 解集P中的每个点到参考集P*中的最小距离的平均值\n",
    "3. Spacing 度量每个解到其他解的最小距离的标准差\n",
    "4. diversity metric 衡量所获得的解集的广泛程度\n",
    "5. 超体积指标 hypervolume 算法获得的非支配解集与参照点围成的目标空间中区域的体积\n",
    "6. 反转世代距离 inverted generational distance 每个参考点到最近的解的距离的均值\n",
    "7. C-metric 解集覆盖率"
   ],
   "metadata": {
    "collapsed": false,
    "pycharm": {
     "name": "#%% md\n"
    }
   }
  },
  {
   "cell_type": "code",
   "execution_count": null,
   "outputs": [],
   "source": [],
   "metadata": {
    "collapsed": false,
    "pycharm": {
     "name": "#%%\n"
    }
   }
  }
 ],
 "metadata": {
  "kernelspec": {
   "display_name": "Python 3",
   "language": "python",
   "name": "python3"
  },
  "language_info": {
   "codemirror_mode": {
    "name": "ipython",
    "version": 2
   },
   "file_extension": ".py",
   "mimetype": "text/x-python",
   "name": "python",
   "nbconvert_exporter": "python",
   "pygments_lexer": "ipython2",
   "version": "2.7.6"
  }
 },
 "nbformat": 4,
 "nbformat_minor": 0
}