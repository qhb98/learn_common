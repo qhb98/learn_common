{
 "cells": [
  {
   "cell_type": "markdown",
   "source": [
    "一般来说, 在数学规划问题中, 一部分变量或者全部变量为整数变量的话, 该数学规划问题就属于整数规划问题.\n",
    "\n",
    "        min c__T * x\n",
    "    s.t.\n",
    "        A * x <= b\n",
    "        x >= 0\n",
    "        x ∈ Z__n\n"
   ],
   "metadata": {
    "collapsed": false,
    "pycharm": {
     "name": "#%% md\n"
    }
   }
  },
  {
   "cell_type": "markdown",
   "source": [
    "常见的整数规划问题:\n",
    "1. 背包问题\n",
    "2. 广义指派问题\n",
    "3. 集合覆盖问题\n",
    "4.\n"
   ],
   "metadata": {
    "collapsed": false,
    "pycharm": {
     "name": "#%% md\n"
    }
   }
  },
  {
   "cell_type": "markdown",
   "source": [
    "整数规划问题分类:\n",
    "1. 线性整数规划 integer linear programming: 目标函数为线性, 约束为线性, 决策变量只含有整数变量的整数规划问题.\n",
    "2. 0-1线性规划 binary linear programming: 目标函数为线性, 约束为线性, 决策变量只含有0-1变量的整数规划问题. 线性整数规划都可以转化为0-1线性规划问题.\n",
    "3. 混合整数线性规划 mixed-integer linear programming: 目标函数为线性, 约束为线性, 决策变量既含有整数变量也含有连续变量的整数规划问题.\n",
    "4. 非线性整数规划 nonlinear integer programming: 目标函数和约束中至少有一个是非线性的, 决策变量只含有整数变量的整数规划问题.\n",
    "5. 0-1非线性规划 nonlinear binary programming: 目标函数和约束中至少有一个是非线性的, 决策变量只含有0-1变量的整数规划问题.\n",
    "6. 0-1非线性混合整数规划 mixed-integer nonlinear programming: 目标函数和约束中至少有一个是非线性的, 决策变量既含有整数变量也含有连续变量的整数规划问题.\n",
    "7. 0-1多项式规划 polynomial binary programming: 目标函数和约束中都是多项式函数, 决策变量只含有0-1变量的整数规划问题.\n"
   ],
   "metadata": {
    "collapsed": false,
    "pycharm": {
     "name": "#%% md\n"
    }
   }
  },
  {
   "cell_type": "markdown",
   "source": [
    "常用的整数规划问题的解法有:\n",
    "1. 分支定界法 - 求解 纯或混合整数线性规划问题\n",
    "2. 割平面法 - 求解 纯或混合整数线性规划问题\n",
    "3. 隐枚举法 - 求解 0-1整数规划问题, 过滤法和分枝法\n",
    "4. 匈牙利法 - 求解 指派问题\n",
    "5. 蒙特卡洛法 - 求解各种类型的规划问题"
   ],
   "metadata": {
    "collapsed": false,
    "pycharm": {
     "name": "#%% md\n"
    }
   }
  },
  {
   "cell_type": "markdown",
   "source": [
    "组合优化问题 combinatorial optimization\n",
    "definition:\n",
    "    集合 N = {1,...,n}, c = {c_1, ..., c_n}, 给定一个N的子集M, 组合优化表示为:\n",
    "        min ∑c_j(j∈F)\n",
    "    s.t.\n",
    "        F 是 M 的子集\n"
   ],
   "metadata": {
    "collapsed": false,
    "pycharm": {
     "name": "#%% md\n"
    }
   }
  },
  {
   "cell_type": "markdown",
   "source": [],
   "metadata": {
    "collapsed": false,
    "pycharm": {
     "name": "#%% md\n"
    }
   }
  },
  {
   "cell_type": "markdown",
   "source": [],
   "metadata": {
    "collapsed": false,
    "pycharm": {
     "name": "#%% md\n"
    }
   }
  },
  {
   "cell_type": "markdown",
   "source": [],
   "metadata": {
    "collapsed": false,
    "pycharm": {
     "name": "#%% md\n"
    }
   }
  }
 ],
 "metadata": {
  "kernelspec": {
   "display_name": "Python 3",
   "language": "python",
   "name": "python3"
  },
  "language_info": {
   "codemirror_mode": {
    "name": "ipython",
    "version": 2
   },
   "file_extension": ".py",
   "mimetype": "text/x-python",
   "name": "python",
   "nbconvert_exporter": "python",
   "pygments_lexer": "ipython2",
   "version": "2.7.6"
  }
 },
 "nbformat": 4,
 "nbformat_minor": 0
}