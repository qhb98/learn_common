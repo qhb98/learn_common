{
 "cells": [
  {
   "cell_type": "markdown",
   "source": [
    "线性规划 linear programming: 线性规划就是在一组线性约束条件下，求解目标函数最优解的问题\n",
    "\n",
    "标准形式:\n",
    "\n",
    "        max z = ∑ c_j * x_j (j=1,...,n)\n",
    "    s.t.\n",
    "        ∑ a_ij * x_j (j=1,...,n) = b_j, i = 1, 2, ..., m\n",
    "        x_j >= 0, j = 1, 2, ..., n\n",
    "\n",
    "\n",
    "线性规划问题的标准形式要求:\n",
    "1. 目标函数要求max\n",
    "2. 约束条件均为等式\n",
    "3. 决策变量为非负约束\n",
    "\n",
    "普通线性规划问题化为标准形:\n",
    "1. 若目标函数为最小化, 可以通过取负, 求最大化\n",
    "2. 约束不等式为小于等于不等式, 可以在左端加入非负松弛变量, 转变为等式\n",
    "3. 若约束不等式为大于等于不等式时, 可以在左端减去一个非负松弛变量, 变为等式\n",
    "4. 若存在取值无约束的变量, 可转变为两个非负变量的差\n"
   ],
   "metadata": {
    "collapsed": false,
    "pycharm": {
     "name": "#%% md\n"
    }
   }
  },
  {
   "cell_type": "markdown",
   "source": [],
   "metadata": {
    "collapsed": false,
    "pycharm": {
     "name": "#%% md\n"
    }
   }
  },
  {
   "cell_type": "markdown",
   "source": [
    "线性规划问题及其对偶问题\n",
    "\n",
    "原问题和对偶问题是相对的, 二者为同类型的规划, 构成对偶规划的一般规则:\n",
    "1. 若原问题是极大化问题, 那么对偶问题就是极小化问题; 若原问题是极小化问题, 那么对偶问题就是极大化问题\n",
    "2. 在原问题和对偶问题中, 约束右端向量与目标函数中系数恰好对换\n",
    "3. 对于极小化问题的 >= 型约束, 相应的对偶变量有非负限制; 对于极小化问题的 <= 型约束, 相应的对偶变量有非正限制; 对于原问题的 = 型约束, 相应的对偶变量无正负限制\n",
    "4.\n",
    "\n"
   ],
   "metadata": {
    "collapsed": false,
    "pycharm": {
     "name": "#%% md\n"
    }
   }
  },
  {
   "cell_type": "markdown",
   "source": [
    "互补松弛定理\n",
    "\n",
    "    X0 和Y0 分别是原问题P和对偶问题D的可行解\n",
    "\n",
    "    这两个解各自都是对应线性规划问题的最优解的充要条件是:\n",
    "        Y0 Xs = 0\n",
    "        Ys X0 = 0\n",
    "    其中, Xs Ys 是松弛变量或者剩余变量\n",
    "\n"
   ],
   "metadata": {
    "collapsed": false,
    "pycharm": {
     "name": "#%% md\n"
    }
   }
  },
  {
   "cell_type": "code",
   "execution_count": null,
   "outputs": [],
   "source": [],
   "metadata": {
    "collapsed": false,
    "pycharm": {
     "name": "#%%\n"
    }
   }
  },
  {
   "cell_type": "code",
   "execution_count": null,
   "outputs": [],
   "source": [],
   "metadata": {
    "collapsed": false,
    "pycharm": {
     "name": "#%%\n"
    }
   }
  },
  {
   "cell_type": "code",
   "execution_count": null,
   "outputs": [],
   "source": [],
   "metadata": {
    "collapsed": false,
    "pycharm": {
     "name": "#%%\n"
    }
   }
  }
 ],
 "metadata": {
  "kernelspec": {
   "display_name": "Python 3",
   "language": "python",
   "name": "python3"
  },
  "language_info": {
   "codemirror_mode": {
    "name": "ipython",
    "version": 2
   },
   "file_extension": ".py",
   "mimetype": "text/x-python",
   "name": "python",
   "nbconvert_exporter": "python",
   "pygments_lexer": "ipython2",
   "version": "2.7.6"
  }
 },
 "nbformat": 4,
 "nbformat_minor": 0
}