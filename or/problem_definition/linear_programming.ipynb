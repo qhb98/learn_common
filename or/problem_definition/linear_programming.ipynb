{
 "cells": [
  {
   "cell_type": "markdown",
   "source": [
    "线性规划 linear programming: 线性规划就是在一组线性约束条件下，求解目标函数最优解的问题\n",
    "\n",
    "标准形式:\n",
    "\n",
    "        max z = ∑ c_j * x_j (j=1,...,n)\n",
    "    s.t.\n",
    "        ∑ a_ij * x_j (j=1,...,n) = b_j, i = 1, 2, ..., m\n",
    "        x_j >= 0, j = 1, 2, ..., n\n",
    "\n",
    "\n",
    "线性规划问题的标准形式要求:\n",
    "1. 目标函数要求max\n",
    "2. 约束条件均为等式\n",
    "3. 决策变量为非负约束\n",
    "\n",
    "普通线性规划问题化为标准形:\n",
    "1. 若目标函数为最小化, 可以通过取负, 求最大化\n",
    "2. 约束不等式为小于等于不等式, 可以在左端加入非负松弛变量, 转变为等式\n",
    "3. 若约束不等式为大于等于不等式时, 可以在左端减去一个非负松弛变量, 变为等式\n",
    "4. 若存在取值无约束的变量, 可转变为两个非负变量的差\n"
   ],
   "metadata": {
    "collapsed": false,
    "pycharm": {
     "name": "#%% md\n"
    }
   }
  },
  {
   "cell_type": "markdown",
   "source": [],
   "metadata": {
    "collapsed": false,
    "pycharm": {
     "name": "#%% md\n"
    }
   }
  },
  {
   "cell_type": "code",
   "execution_count": null,
   "outputs": [],
   "source": [],
   "metadata": {
    "collapsed": false,
    "pycharm": {
     "name": "#%%\n"
    }
   }
  }
 ],
 "metadata": {
  "kernelspec": {
   "display_name": "Python 3",
   "language": "python",
   "name": "python3"
  },
  "language_info": {
   "codemirror_mode": {
    "name": "ipython",
    "version": 2
   },
   "file_extension": ".py",
   "mimetype": "text/x-python",
   "name": "python",
   "nbconvert_exporter": "python",
   "pygments_lexer": "ipython2",
   "version": "2.7.6"
  }
 },
 "nbformat": 4,
 "nbformat_minor": 0
}