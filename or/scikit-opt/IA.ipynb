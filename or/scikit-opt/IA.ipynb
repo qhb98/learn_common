{
 "cells": [
  {
   "cell_type": "markdown",
   "source": [
    "### 第一个DEMO TSP"
   ],
   "metadata": {
    "collapsed": false,
    "pycharm": {
     "name": "#%% md\n"
    }
   }
  },
  {
   "cell_type": "markdown",
   "source": [
    "IA_TSP参数列表及含义:\n",
    "\n",
    "    + func  目标函数\n",
    "    + n_dim  城市个数\n",
    "    + size_pop  默认50, 种群规模\n",
    "    + max_iter  默认200, 最大迭代次数\n",
    "    + prob_mut  默认0.001, 变异概率\n",
    "    + T  默认0.7, 抗体与抗体之间的亲和度阈值, 大于这个阈值认为亲和, 否则认为不亲和\n",
    "    + alpha  默认0.95, 多样性评价指数, 也就是抗体和抗原的重要性/抗体浓度的重要性"
   ],
   "metadata": {
    "collapsed": false,
    "pycharm": {
     "name": "#%% md\n"
    }
   }
  },
  {
   "cell_type": "code",
   "execution_count": 1,
   "outputs": [],
   "source": [
    "# 定义问题\n",
    "import numpy as np\n",
    "from sko.demo_func import function_for_TSP\n",
    "\n",
    "num_points, points_coordinate, distance_matrix, cal_total_distance = function_for_TSP(num_points=10)\n",
    "\n"
   ],
   "metadata": {
    "collapsed": false,
    "pycharm": {
     "name": "#%%\n"
    }
   }
  },
  {
   "cell_type": "code",
   "execution_count": 2,
   "outputs": [
    {
     "name": "stdout",
     "output_type": "stream",
     "text": [
      "best routine: [7 1 9 5 4 2 3 6 0 8] best_distance: [2.7197783]\n"
     ]
    }
   ],
   "source": [
    "# 导包\n",
    "\n",
    "from sko.IA import IA_TSP\n",
    "\n",
    "ia_tsp = IA_TSP(func=cal_total_distance, n_dim=num_points, size_pop=500, max_iter=800, prob_mut=0.2,\n",
    "                T=0.7, alpha=0.95)\n",
    "best_points, best_distance = ia_tsp.run()\n",
    "print('best routine:', best_points, 'best_distance:', best_distance)\n"
   ],
   "metadata": {
    "collapsed": false,
    "pycharm": {
     "name": "#%%\n"
    }
   }
  },
  {
   "cell_type": "code",
   "execution_count": 3,
   "outputs": [
    {
     "data": {
      "text/plain": "<Figure size 432x288 with 1 Axes>",
      "image/png": "[encoded data removed]"
     },
     "metadata": {
      "needs_background": "light"
     },
     "output_type": "display_data"
    }
   ],
   "source": [
    "# 绘图\n",
    "import matplotlib.pyplot as plt\n",
    "\n",
    "fig, ax = plt.subplots(1, 1)\n",
    "best_points_ = np.concatenate([best_points, [best_points[0]]])\n",
    "best_points_coordinate = points_coordinate[best_points_, :]\n",
    "ax.plot(best_points_coordinate[:, 0], best_points_coordinate[:, 1], 'o-r')\n",
    "plt.show()"
   ],
   "metadata": {
    "collapsed": false,
    "pycharm": {
     "name": "#%%\n"
    }
   }
  },
  {
   "cell_type": "code",
   "execution_count": 3,
   "outputs": [],
   "source": [],
   "metadata": {
    "collapsed": false,
    "pycharm": {
     "name": "#%%\n"
    }
   }
  }
 ],
 "metadata": {
  "kernelspec": {
   "display_name": "Python 3",
   "language": "python",
   "name": "python3"
  },
  "language_info": {
   "codemirror_mode": {
    "name": "ipython",
    "version": 2
   },
   "file_extension": ".py",
   "mimetype": "text/x-python",
   "name": "python",
   "nbconvert_exporter": "python",
   "pygments_lexer": "ipython2",
   "version": "2.7.6"
  }
 },
 "nbformat": 4,
 "nbformat_minor": 0
}