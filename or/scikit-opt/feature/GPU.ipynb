{
 "cells": [
  {
   "cell_type": "code",
   "execution_count": null,
   "metadata": {
    "collapsed": true,
    "pycharm": {
     "name": "#%%\n"
    }
   },
   "outputs": [],
   "source": [
    "import numpy as np\n",
    "import torch\n",
    "import time\n",
    "\n",
    "\n",
    "def schaffer(p):\n",
    "    '''\n",
    "    This function has plenty of local minimum, with strong shocks\n",
    "    global minimum at (0,0) with value 0\n",
    "    https://en.wikipedia.org/wiki/Test_functions_for_optimization\n",
    "    '''\n",
    "    x1, x2 = p\n",
    "    part1 = np.square(x1) - np.square(x2)\n",
    "    part2 = np.square(x1) + np.square(x2)\n",
    "    return 0.5 + (np.square(np.sin(part1)) - 0.5) / np.square(1 + 0.001 * part2)\n",
    "\n",
    "\n",
    "import torch\n",
    "from sko.GA import GA\n",
    "\n",
    "device = torch.device(\"cuda:0\" if torch.cuda.is_available() else \"cpu\")\n",
    "\n",
    "ga = GA(func=schaffer, n_dim=2, size_pop=50, max_iter=800, lb=[-1, -1], ub=[1, 1], precision=1e-7)\n",
    "ga.to(device=device)\n",
    "start_time = time.time()\n",
    "best_x, best_y = ga.run()\n",
    "print(time.time() - start_time)\n",
    "print('best_x:', best_x, '\\n', 'best_y:', best_y)\n",
    "\n",
    "ga = GA(func=schaffer, n_dim=2, size_pop=50, max_iter=800, lb=[-1, -1], ub=[1, 1], precision=1e-7)\n",
    "start_time = time.time()\n",
    "best_x, best_y = ga.run()\n",
    "print(time.time() - start_time)\n",
    "print('best_x:', best_x, '\\n', 'best_y:', best_y)"
   ]
  }
 ],
 "metadata": {
  "kernelspec": {
   "display_name": "Python 3",
   "language": "python",
   "name": "python3"
  },
  "language_info": {
   "codemirror_mode": {
    "name": "ipython",
    "version": 2
   },
   "file_extension": ".py",
   "mimetype": "text/x-python",
   "name": "python",
   "nbconvert_exporter": "python",
   "pygments_lexer": "ipython2",
   "version": "2.7.6"
  }
 },
 "nbformat": 4,
 "nbformat_minor": 0
}