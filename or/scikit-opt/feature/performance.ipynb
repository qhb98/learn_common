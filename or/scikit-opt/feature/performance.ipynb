{
 "cells": [
  {
   "cell_type": "markdown",
   "source": [
    "### scikit-opt 提供了四种CPU加速的方法\n",
    "矢量化计算：vectorization\n",
    "多线程计算：multithreading，适用于 IO 密集型目标函数\n",
    "多进程计算：multiprocessing，适用于 CPU 密集型目标函数\n",
    "缓存化计算：cached，适用于目标函数的每次输入有大量重复\n"
   ],
   "metadata": {
    "collapsed": false,
    "pycharm": {
     "name": "#%% md\n"
    }
   }
  },
  {
   "cell_type": "code",
   "execution_count": 1,
   "outputs": [],
   "source": [
    "import numpy as np\n",
    "from sko.GA import GA\n",
    "import time\n",
    "import datetime\n",
    "from sko.tools import set_run_mode"
   ],
   "metadata": {
    "collapsed": false,
    "pycharm": {
     "name": "#%%\n"
    }
   }
  },
  {
   "cell_type": "code",
   "execution_count": 2,
   "outputs": [],
   "source": [
    "def generate_costly_function(task_type='io_costly'):\n",
    "    # generate a high cost function to test all the modes\n",
    "    # cost_type can be 'io_costly' or 'cpu_costly'\n",
    "    if task_type == 'io_costly':\n",
    "        def costly_function():\n",
    "            time.sleep(0.1)\n",
    "            return 1\n",
    "    else:\n",
    "        def costly_function():\n",
    "            n = 10000\n",
    "            step1 = [np.log(i + 1) for i in range(n)]\n",
    "            step2 = [np.power(i, 1.1) for i in range(n)]\n",
    "            step3 = sum(step1) + sum(step2)\n",
    "            return step3\n",
    "\n",
    "    return costly_function\n",
    "\n",
    "\n",
    "for task_type in ('io_costly', 'cpu_costly'):\n",
    "    costly_function = generate_costly_function(task_type=task_type)\n",
    "    def obj_func(p):\n",
    "        costly_function()\n",
    "        x1, x2 = p\n",
    "        x = np.square(x1) + np.square(x2)\n",
    "        return 0.5 + (np.square(np.sin(x)) - 0.5) / np.square(1 + 0.001 * x)\n",
    "\n",
    "    for mode in ('common', 'multithreading', 'multiprocessing'):\n",
    "        set_run_mode(obj_func, mode)\n",
    "        ga = GA(func=obj_func, n_dim=2, size_pop=10, max_iter=5, lb=[-1, -1], ub=[1, 1], precision=1e-7)\n",
    "        start_time = datetime.datetime.now()\n",
    "        best_x, best_y = ga.run()\n",
    "        print('on {task_type} task,use {mode} mode, costs {time_costs}s'\n",
    "              .format(task_type=task_type, mode=mode,\n",
    "                      time_costs=(datetime.datetime.now() - start_time).total_seconds()))\n",
    "\n",
    "    # to use the vectorization mode, the function itself should support the mode.\n",
    "    mode = 'vectorization'\n",
    "\n",
    "\n",
    "    def obj_func2(p):\n",
    "        costly_function()\n",
    "        x1, x2 = p[:, 0], p[:, 1]\n",
    "        x = np.square(x1) + np.square(x2)\n",
    "        return 0.5 + (np.square(np.sin(x)) - 0.5) / np.square(1 + 0.001 * x)\n",
    "\n",
    "\n",
    "    set_run_mode(obj_func2, mode)\n",
    "    ga = GA(func=obj_func2, n_dim=2, size_pop=10, max_iter=5, lb=[-1, -1], ub=[1, 1], precision=1e-7)\n",
    "    start_time = datetime.datetime.now()\n",
    "    best_x, best_y = ga.run()\n",
    "    print('on {task_type} task,use {mode} mode, costs {time_costs}s'\n",
    "          .format(task_type=task_type, mode=mode,\n",
    "                  time_costs=(datetime.datetime.now() - start_time).total_seconds()))\n"
   ],
   "metadata": {
    "collapsed": false,
    "pycharm": {
     "name": "#%%\n"
    }
   }
  },
  {
   "cell_type": "code",
   "execution_count": null,
   "outputs": [],
   "source": [
    "# cached mode\n",
    "def obj_func_for_cache_mode(p):\n",
    "    costly_function()\n",
    "    x1, x2 = p\n",
    "    x = np.square(x1) + np.square(x2)\n",
    "    return 0.5 + (np.square(np.sin(x)) - 0.5) / np.square(1 + 0.001 * x)\n",
    "\n",
    "\n",
    "for task_type in ('io_costly', 'cpu_costly'):\n",
    "    costly_function = generate_costly_function(task_type=task_type)\n",
    "\n",
    "    for mode in ('common', 'cached'):\n",
    "        set_run_mode(obj_func_for_cache_mode, mode)\n",
    "        ga_2 = GA(func=obj_func_for_cache_mode, n_dim=2, size_pop=6, max_iter=10, lb=[-2, -2], ub=[2, 2], precision=1)\n",
    "        start_time = datetime.datetime.now()\n",
    "        best_x, best_y = ga_2.run()\n",
    "        print('on {task_type} task,use {mode} mode, costs {time_costs}s'\n",
    "              .format(task_type=task_type, mode=mode,\n",
    "                      time_costs=(datetime.datetime.now() - start_time).total_seconds()))\n"
   ],
   "metadata": {
    "collapsed": false,
    "pycharm": {
     "name": "#%%\n"
    }
   }
  },
  {
   "cell_type": "code",
   "execution_count": null,
   "outputs": [],
   "source": [],
   "metadata": {
    "collapsed": false,
    "pycharm": {
     "name": "#%%\n"
    }
   }
  }
 ],
 "metadata": {
  "kernelspec": {
   "display_name": "Python 3",
   "language": "python",
   "name": "python3"
  },
  "language_info": {
   "codemirror_mode": {
    "name": "ipython",
    "version": 2
   },
   "file_extension": ".py",
   "mimetype": "text/x-python",
   "name": "python",
   "nbconvert_exporter": "python",
   "pygments_lexer": "ipython2",
   "version": "2.7.6"
  }
 },
 "nbformat": 4,
 "nbformat_minor": 0
}