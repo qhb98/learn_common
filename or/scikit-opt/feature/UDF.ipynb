{
 "cells": [
  {
   "cell_type": "markdown",
   "source": [
    "### scikit-opt 用户可以自定义算子"
   ],
   "metadata": {
    "collapsed": false,
    "pycharm": {
     "name": "#%% md\n"
    }
   }
  },
  {
   "cell_type": "code",
   "execution_count": 1,
   "outputs": [],
   "source": [
    "# 比如, 自定义一个新的 选择算子\n",
    "def selection_tournament(algorithm, tourn_size):\n",
    "    FitV = algorithm.FitV\n",
    "    sel_index = []\n",
    "    for i in range(algorithm.size_pop):\n",
    "        aspirants_index = np.random.choice(range(algorithm.size_pop), size=tourn_size)\n",
    "        sel_index.append(max(aspirants_index, key=lambda i: FitV[i]))\n",
    "    algorithm.Chrom = algorithm.Chrom[sel_index, :]  # next generation\n",
    "    return algorithm.Chrom"
   ],
   "metadata": {
    "collapsed": false,
    "pycharm": {
     "name": "#%%\n"
    }
   }
  },
  {
   "cell_type": "code",
   "execution_count": 2,
   "outputs": [],
   "source": [
    "# 导包\n",
    "import numpy as np\n",
    "from sko.GA import GA, GA_TSP\n",
    "# 定义问题\n",
    "demo_func = lambda x: x[0] ** 2 + (x[1] - 0.05) ** 2 + (x[2] - 0.5) ** 2\n",
    "# 创建遗传算法的实例\n",
    "ga = GA(func=demo_func, n_dim=3, size_pop=100, max_iter=500, prob_mut=0.001, lb=[-1, -10, -5], ub=[2, 10, 2], precision=[1e-7, 1e-7, 1])"
   ],
   "metadata": {
    "collapsed": false,
    "pycharm": {
     "name": "#%%\n"
    }
   }
  },
  {
   "cell_type": "code",
   "execution_count": 3,
   "outputs": [
    {
     "data": {
      "text/plain": "<sko.GA.GA at 0x1ff437b75c8>"
     },
     "execution_count": 3,
     "metadata": {},
     "output_type": "execute_result"
    }
   ],
   "source": [
    "# 将自定义的算子注册到创建好的遗传算法实例上\n",
    "ga.register(operator_name='selection', operator=selection_tournament, tourn_size=3)"
   ],
   "metadata": {
    "collapsed": false,
    "pycharm": {
     "name": "#%%\n"
    }
   }
  },
  {
   "cell_type": "code",
   "execution_count": 4,
   "outputs": [
    {
     "name": "stdout",
     "output_type": "stream",
     "text": [
      "best_x: [-2.98023233e-08  4.99999898e-02  1.00000000e+00] \n",
      " best_y: [0.25]\n"
     ]
    }
   ],
   "source": [
    "# 运算\n",
    "best_x, best_y = ga.run()\n",
    "print('best_x:', best_x, '\\n', 'best_y:', best_y)"
   ],
   "metadata": {
    "collapsed": false,
    "pycharm": {
     "name": "#%%\n"
    }
   }
  },
  {
   "cell_type": "code",
   "execution_count": 4,
   "outputs": [],
   "source": [
    "# 另外, scikit-opt 也提供了十几个算子供调用\n",
    "from sko.operators import ranking, selection, crossover, mutation\n",
    "\n",
    "ga.register(operator_name='ranking', operator=ranking.ranking). \\\n",
    "    register(operator_name='crossover', operator=crossover.crossover_2point). \\\n",
    "    register(operator_name='mutation', operator=mutation.mutation)"
   ],
   "metadata": {
    "collapsed": false,
    "pycharm": {
     "name": "#%%\n"
    }
   }
  },
  {
   "cell_type": "markdown",
   "source": [
    "### scikit-opt 用户可以设置断点"
   ],
   "metadata": {
    "collapsed": false,
    "pycharm": {
     "name": "#%% md\n"
    }
   }
  },
  {
   "cell_type": "code",
   "execution_count": null,
   "outputs": [],
   "source": [
    "# 例如，先跑10代，然后在此基础上再跑20代，可以这么写\n",
    "from sko.GA import GA\n",
    "\n",
    "func = lambda x: x[0] ** 2\n",
    "ga = GA(func=func, n_dim=1)\n",
    "ga.run(10)\n",
    "ga.run(20)"
   ],
   "metadata": {
    "collapsed": false,
    "pycharm": {
     "name": "#%%\n"
    }
   }
  },
  {
   "cell_type": "code",
   "execution_count": null,
   "outputs": [],
   "source": [],
   "metadata": {
    "collapsed": false,
    "pycharm": {
     "name": "#%%\n"
    }
   }
  }
 ],
 "metadata": {
  "kernelspec": {
   "display_name": "Python 3",
   "language": "python",
   "name": "python3"
  },
  "language_info": {
   "codemirror_mode": {
    "name": "ipython",
    "version": 2
   },
   "file_extension": ".py",
   "mimetype": "text/x-python",
   "name": "python",
   "nbconvert_exporter": "python",
   "pygments_lexer": "ipython2",
   "version": "2.7.6"
  }
 },
 "nbformat": 4,
 "nbformat_minor": 0
}