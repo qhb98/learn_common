{
 "cells": [
  {
   "cell_type": "markdown",
   "source": [
    "### 第一个DEMO"
   ],
   "metadata": {
    "collapsed": false,
    "pycharm": {
     "name": "#%% md\n"
    }
   }
  },
  {
   "cell_type": "markdown",
   "source": [
    "AFSA参数列表及含义:\n",
    "\n",
    "    + func  目标函数\n",
    "    + n_dim  目标函数的维度\n",
    "    + size_pop  默认50, 种群规模\n",
    "    + max_iter  默认300, 最大迭代次数\n",
    "    + max_try_num  默认100, 最大尝试捕食次数\n",
    "    + step  默认0.5, 每一步的最大位移比例\n",
    "    + visual  默认0.3, 鱼的最大感知范围\n",
    "    + q  默认0.98, 鱼的感知范围衰减系数\n",
    "    + delta  默认0.5, 拥挤度阈值, 越大越容易聚群和追尾"
   ],
   "metadata": {
    "collapsed": false,
    "pycharm": {
     "name": "#%% md\n"
    }
   }
  },
  {
   "cell_type": "code",
   "execution_count": 1,
   "outputs": [],
   "source": [
    "def func(x):\n",
    "    x1, x2 = x\n",
    "    return 1 / x1 ** 2 + x1 ** 2 + 1 / x2 ** 2 + x2 ** 2\n"
   ],
   "metadata": {
    "collapsed": false,
    "pycharm": {
     "name": "#%%\n"
    }
   }
  },
  {
   "cell_type": "code",
   "execution_count": 2,
   "outputs": [
    {
     "name": "stdout",
     "output_type": "stream",
     "text": [
      "[0.9999765  1.00000415] 4.000000002278843\n"
     ]
    }
   ],
   "source": [
    "from sko.AFSA import AFSA\n",
    "\n",
    "afsa = AFSA(func, n_dim=2, size_pop=50, max_iter=300,\n",
    "            max_try_num=100, step=0.5, visual=0.3,\n",
    "            q=0.98, delta=0.5)\n",
    "best_x, best_y = afsa.run()\n",
    "print(best_x, best_y)"
   ],
   "metadata": {
    "collapsed": false,
    "pycharm": {
     "name": "#%%\n"
    }
   }
  },
  {
   "cell_type": "code",
   "execution_count": 2,
   "outputs": [],
   "source": [],
   "metadata": {
    "collapsed": false,
    "pycharm": {
     "name": "#%%\n"
    }
   }
  },
  {
   "cell_type": "code",
   "execution_count": 2,
   "outputs": [],
   "source": [],
   "metadata": {
    "collapsed": false,
    "pycharm": {
     "name": "#%%\n"
    }
   }
  },
  {
   "cell_type": "code",
   "execution_count": 2,
   "outputs": [],
   "source": [],
   "metadata": {
    "collapsed": false,
    "pycharm": {
     "name": "#%%\n"
    }
   }
  }
 ],
 "metadata": {
  "kernelspec": {
   "display_name": "Python 3",
   "language": "python",
   "name": "python3"
  },
  "language_info": {
   "codemirror_mode": {
    "name": "ipython",
    "version": 2
   },
   "file_extension": ".py",
   "mimetype": "text/x-python",
   "name": "python",
   "nbconvert_exporter": "python",
   "pygments_lexer": "ipython2",
   "version": "2.7.6"
  }
 },
 "nbformat": 4,
 "nbformat_minor": 0
}