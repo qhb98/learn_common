{
 "cells": [
  {
   "cell_type": "markdown",
   "source": [
    "### 第一个DEMO 函数求解"
   ],
   "metadata": {
    "collapsed": false,
    "pycharm": {
     "name": "#%% md\n"
    }
   }
  },
  {
   "cell_type": "markdown",
   "source": [
    "PSO参数列表及含义:\n",
    "\n",
    "    + func  目标函数\n",
    "    + n_dim 目标函数的维度\n",
    "    + size_pop 默认50, 种群规模\n",
    "    + max_iter  默认200, 最大迭代次数\n",
    "    + lb  默认None, 每个参数的最小值\n",
    "    + ub  默认None, 每个参数的最大值\n",
    "    + w  默认0.8, 惯性权重\n",
    "    + c1  默认0.5, 个体学习系数\n",
    "    + c2  默认0.5, 集体学习系数\n",
    "    + constraint_ueq   默认空元组, 非线性约束"
   ],
   "metadata": {
    "collapsed": false,
    "pycharm": {
     "name": "#%% md\n"
    }
   }
  },
  {
   "cell_type": "code",
   "execution_count": 9,
   "outputs": [],
   "source": [
    "# 定义问题\n",
    "def demo_func(x):\n",
    "    x1, x2, x3 = x\n",
    "    return x1 ** 2 + (x2 - 0.05) ** 2 + x3 ** 2"
   ],
   "metadata": {
    "collapsed": false,
    "pycharm": {
     "name": "#%%\n"
    }
   }
  },
  {
   "cell_type": "code",
   "execution_count": 10,
   "outputs": [
    {
     "name": "stdout",
     "output_type": "stream",
     "text": [
      "best_x is  [0.   0.05 0.5 ] best_y is [0.25]\n"
     ]
    }
   ],
   "source": [
    "# 调包\n",
    "from sko.PSO import PSO\n",
    "\n",
    "pso = PSO(func=demo_func, n_dim=3, pop=40, max_iter=150, lb=[0, -1, 0.5], ub=[1, 1, 1], w=0.8, c1=0.5, c2=0.5)\n",
    "pso.run()\n",
    "print('best_x is ', pso.gbest_x, 'best_y is', pso.gbest_y)"
   ],
   "metadata": {
    "collapsed": false,
    "pycharm": {
     "name": "#%%\n"
    }
   }
  },
  {
   "cell_type": "code",
   "execution_count": 11,
   "outputs": [
    {
     "data": {
      "text/plain": "<Figure size 432x288 with 1 Axes>",
      "image/png": "[encoded data removed]"
     },
     "metadata": {
      "needs_background": "light"
     },
     "output_type": "display_data"
    }
   ],
   "source": [
    "# 绘图\n",
    "import matplotlib.pyplot as plt\n",
    "\n",
    "plt.plot(pso.gbest_y_hist)\n",
    "plt.show()"
   ],
   "metadata": {
    "collapsed": false,
    "pycharm": {
     "name": "#%%\n"
    }
   }
  },
  {
   "cell_type": "code",
   "execution_count": null,
   "outputs": [],
   "source": [],
   "metadata": {
    "collapsed": false,
    "pycharm": {
     "name": "#%%\n"
    }
   }
  }
 ],
 "metadata": {
  "kernelspec": {
   "display_name": "Python 3",
   "language": "python",
   "name": "python3"
  },
  "language_info": {
   "codemirror_mode": {
    "name": "ipython",
    "version": 2
   },
   "file_extension": ".py",
   "mimetype": "text/x-python",
   "name": "python",
   "nbconvert_exporter": "python",
   "pygments_lexer": "ipython2",
   "version": "2.7.6"
  }
 },
 "nbformat": 4,
 "nbformat_minor": 0
}