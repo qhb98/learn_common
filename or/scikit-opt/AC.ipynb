{
 "cells": [
  {
   "cell_type": "markdown",
   "source": [
    "### 第一个DEMO TSP"
   ],
   "metadata": {
    "collapsed": false,
    "pycharm": {
     "name": "#%% md\n"
    }
   }
  },
  {
   "cell_type": "markdown",
   "source": [
    "ACA_TSP参数列表及含义:\n",
    "\n",
    "    + func  目标函数\n",
    "    + n_dim  城市个数\n",
    "    + size_pop  默认10, 蚂蚁数量\n",
    "    + max_iter  默认20, 最大迭代次数\n",
    "    + distance_matrix  城市之间的距离矩阵\n",
    "    + alpha  默认1, 信息素的重要程度\n",
    "    + beta  默认2, 适应度的重要程度\n",
    "    + rho  默认0.1, 信息素的挥发速度"
   ],
   "metadata": {
    "collapsed": false,
    "pycharm": {
     "name": "#%% md\n"
    }
   }
  },
  {
   "cell_type": "code",
   "execution_count": 3,
   "outputs": [],
   "source": [
    "# 定义问题\n",
    "import numpy as np\n",
    "from scipy import spatial\n",
    "import pandas as pd\n",
    "import matplotlib.pyplot as plt\n",
    "\n",
    "num_points = 25\n",
    "\n",
    "points_coordinate = np.random.rand(num_points, 2)  # generate coordinate of points\n",
    "distance_matrix = spatial.distance.cdist(points_coordinate, points_coordinate, metric='euclidean')\n",
    "\n",
    "\n",
    "def cal_total_distance(routine):\n",
    "    num_points, = routine.shape\n",
    "    return sum([distance_matrix[routine[i % num_points], routine[(i + 1) % num_points]] for i in range(num_points)])"
   ],
   "metadata": {
    "collapsed": false,
    "pycharm": {
     "name": "#%%\n"
    }
   }
  },
  {
   "cell_type": "code",
   "execution_count": 4,
   "outputs": [],
   "source": [
    "# 导包\n",
    "from sko.ACA import ACA_TSP\n",
    "\n",
    "aca = ACA_TSP(func=cal_total_distance, n_dim=num_points,\n",
    "              size_pop=50, max_iter=200,\n",
    "              distance_matrix=distance_matrix)\n",
    "\n",
    "best_x, best_y = aca.run()"
   ],
   "metadata": {
    "collapsed": false,
    "pycharm": {
     "name": "#%%\n"
    }
   }
  },
  {
   "cell_type": "code",
   "execution_count": 5,
   "outputs": [
    {
     "data": {
      "text/plain": "<Figure size 432x288 with 2 Axes>",
      "image/png": "[encoded data removed]"
     },
     "metadata": {
      "needs_background": "light"
     },
     "output_type": "display_data"
    }
   ],
   "source": [
    "# 绘图\n",
    "fig, ax = plt.subplots(1, 2)\n",
    "best_points_ = np.concatenate([best_x, [best_x[0]]])\n",
    "best_points_coordinate = points_coordinate[best_points_, :]\n",
    "ax[0].plot(best_points_coordinate[:, 0], best_points_coordinate[:, 1], 'o-r')\n",
    "pd.DataFrame(aca.y_best_history).cummin().plot(ax=ax[1])\n",
    "plt.show()\n"
   ],
   "metadata": {
    "collapsed": false,
    "pycharm": {
     "name": "#%%\n"
    }
   }
  },
  {
   "cell_type": "code",
   "execution_count": 5,
   "outputs": [],
   "source": [],
   "metadata": {
    "collapsed": false,
    "pycharm": {
     "name": "#%%\n"
    }
   }
  }
 ],
 "metadata": {
  "kernelspec": {
   "display_name": "Python 3",
   "language": "python",
   "name": "python3"
  },
  "language_info": {
   "codemirror_mode": {
    "name": "ipython",
    "version": 2
   },
   "file_extension": ".py",
   "mimetype": "text/x-python",
   "name": "python",
   "nbconvert_exporter": "python",
   "pygments_lexer": "ipython2",
   "version": "2.7.6"
  }
 },
 "nbformat": 4,
 "nbformat_minor": 0
}