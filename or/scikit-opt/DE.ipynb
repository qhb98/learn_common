{
 "cells": [
  {
   "cell_type": "markdown",
   "source": [
    "### 第一个DEMO 函数求解"
   ],
   "metadata": {
    "collapsed": false,
    "pycharm": {
     "name": "#%% md\n"
    }
   }
  },
  {
   "cell_type": "markdown",
   "source": [
    "DE参数列表及含义:\n",
    "\n",
    "    + func  目标函数\n",
    "    + n_dim 目标函数的维度\n",
    "    + size_pop 默认50, 种群规模\n",
    "    + max_iter 默认200, 最大迭代次数\n",
    "    + prob_mut  默认0.001, 变异概率\n",
    "    + F  默认0.5, 变异系数\n",
    "    + lb  默认-1, 每个参数的最小值\n",
    "    + ub 默认1, 每个参数的最大值\n",
    "    + constraint_eq  默认空元组, 线性约束\n",
    "    + constraint_ueq  默认空元组, 非线性约束"
   ],
   "metadata": {
    "collapsed": false,
    "pycharm": {
     "name": "#%% md\n"
    }
   }
  },
  {
   "cell_type": "code",
   "execution_count": 1,
   "outputs": [],
   "source": [
    "\"\"\"\n",
    "定义问题:\n",
    "    min f(x1, x2, x3) = x1^2 + x2^2 + x3^2\n",
    "    s.t.\n",
    "        x1*x2 >= 1\n",
    "        x1*x2 <= 5\n",
    "        x2 + x3 = 1\n",
    "        0 <= x1, x2, x3 <= 5\n",
    "\"\"\"\n",
    "\n",
    "\n",
    "def obj_func(p):\n",
    "    x1, x2, x3 = p\n",
    "    return x1 ** 2 + x2 ** 2 + x3 ** 2\n",
    "\n",
    "\n",
    "constraint_eq = [\n",
    "    lambda x: 1 - x[1] - x[2]\n",
    "]\n",
    "\n",
    "constraint_ueq = [\n",
    "    lambda x: 1 - x[0] * x[1],\n",
    "    lambda x: x[0] * x[1] - 5\n",
    "]"
   ],
   "metadata": {
    "collapsed": false,
    "pycharm": {
     "name": "#%%\n"
    }
   }
  },
  {
   "cell_type": "code",
   "execution_count": 2,
   "outputs": [
    {
     "name": "stdout",
     "output_type": "stream",
     "text": [
      "best_x: [1.00768782 0.99239538 0.00760461] \n",
      " best_y: [2.00034118]\n"
     ]
    }
   ],
   "source": [
    "# 导包\n",
    "from sko.DifferentialEvolution import DifferentialEvolution\n",
    "\n",
    "de = DifferentialEvolution(func=obj_func, n_dim=3, size_pop=50, max_iter=800, lb=[0, 0, 0], ub=[5, 5, 5],\n",
    "        constraint_eq=constraint_eq, constraint_ueq=constraint_ueq)\n",
    "\n",
    "best_x, best_y = de.run()\n",
    "print('best_x:', best_x, '\\n', 'best_y:', best_y)"
   ],
   "metadata": {
    "collapsed": false,
    "pycharm": {
     "name": "#%%\n"
    }
   }
  },
  {
   "cell_type": "code",
   "execution_count": null,
   "outputs": [],
   "source": [],
   "metadata": {
    "collapsed": false,
    "pycharm": {
     "name": "#%%\n"
    }
   }
  },
  {
   "cell_type": "code",
   "execution_count": null,
   "outputs": [],
   "source": [],
   "metadata": {
    "collapsed": false,
    "pycharm": {
     "name": "#%%\n"
    }
   }
  }
 ],
 "metadata": {
  "kernelspec": {
   "display_name": "Python 3",
   "language": "python",
   "name": "python3"
  },
  "language_info": {
   "codemirror_mode": {
    "name": "ipython",
    "version": 2
   },
   "file_extension": ".py",
   "mimetype": "text/x-python",
   "name": "python",
   "nbconvert_exporter": "python",
   "pygments_lexer": "ipython2",
   "version": "2.7.6"
  }
 },
 "nbformat": 4,
 "nbformat_minor": 0
}